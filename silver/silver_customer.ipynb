{
 "cells": [
  {
   "cell_type": "markdown",
   "metadata": {
    "application/vnd.databricks.v1+cell": {
     "cellMetadata": {
      "byteLimit": 2048000,
      "rowLimit": 10000
     },
     "inputWidgets": {},
     "nuid": "b8436090-6f0e-45ad-baae-0065f1280a52",
     "showTitle": false,
     "tableResultSettingsMap": {},
     "title": ""
    }
   },
   "source": [
    "**Import packages**"
   ]
  },
  {
   "cell_type": "code",
   "execution_count": 0,
   "metadata": {
    "application/vnd.databricks.v1+cell": {
     "cellMetadata": {
      "byteLimit": 2048000,
      "rowLimit": 10000
     },
     "inputWidgets": {},
     "nuid": "fc00e49c-97d4-446c-8378-87dc3022741c",
     "showTitle": false,
     "tableResultSettingsMap": {},
     "title": ""
    }
   },
   "outputs": [],
   "source": [
    "import sys\n",
    "sys.path.append('/dbfs/FileStore/tables/')\n",
    "\n",
    "from schema_utils import validate_schema\n",
    "from pyspark.sql.types import *\n",
    "from pyspark.sql.functions import *\n",
    "from pyspark.sql.window import Window\n",
    "from delta.tables import DeltaTable"
   ]
  },
  {
   "cell_type": "markdown",
   "metadata": {
    "application/vnd.databricks.v1+cell": {
     "cellMetadata": {
      "byteLimit": 2048000,
      "rowLimit": 10000
     },
     "inputWidgets": {},
     "nuid": "9e3c569e-365f-44b8-bdd1-f185faa202f8",
     "showTitle": false,
     "tableResultSettingsMap": {},
     "title": ""
    }
   },
   "source": [
    "**Define paths**"
   ]
  },
  {
   "cell_type": "code",
   "execution_count": 0,
   "metadata": {
    "application/vnd.databricks.v1+cell": {
     "cellMetadata": {
      "byteLimit": 2048000,
      "rowLimit": 10000
     },
     "inputWidgets": {},
     "nuid": "ba6b677d-af70-40f0-a8bf-255450ba550a",
     "showTitle": false,
     "tableResultSettingsMap": {},
     "title": ""
    }
   },
   "outputs": [],
   "source": [
    "bronze_path = \"abfss://bronze@stfinancedev.dfs.core.windows.net/bnz_customers\"\n",
    "silver_path = \"abfss://silver@stfinancedev.dfs.core.windows.net/s_customers\""
   ]
  },
  {
   "cell_type": "markdown",
   "metadata": {
    "application/vnd.databricks.v1+cell": {
     "cellMetadata": {
      "byteLimit": 2048000,
      "rowLimit": 10000
     },
     "inputWidgets": {},
     "nuid": "d23863cf-4545-4157-9469-d6a2c1dd5b39",
     "showTitle": false,
     "tableResultSettingsMap": {},
     "title": ""
    }
   },
   "source": [
    "### **Schema validation**"
   ]
  },
  {
   "cell_type": "code",
   "execution_count": 0,
   "metadata": {
    "application/vnd.databricks.v1+cell": {
     "cellMetadata": {
      "byteLimit": 2048000,
      "rowLimit": 10000
     },
     "inputWidgets": {},
     "nuid": "fc9dd8fa-b94a-4b48-9de8-5223d162c737",
     "showTitle": false,
     "tableResultSettingsMap": {},
     "title": ""
    }
   },
   "outputs": [],
   "source": [
    "#Define schema\n",
    "expected_schema = StructType([\n",
    "    StructField('CustomerID', IntegerType(), True),\n",
    "    StructField('FirstName', StringType(), True),\n",
    "    StructField('LastName', StringType(), True),\n",
    "    StructField('DateOfBirth', DateType(), True), \n",
    "    StructField('Gender', StringType(), True), \n",
    "    StructField('Email', StringType(), True), \n",
    "    StructField('PhoneNumber', StringType(), True), \n",
    "    StructField('Address', StringType(), True), \n",
    "    StructField('City', StringType(), True), \n",
    "    StructField('State', StringType(), True), \n",
    "    StructField('Pincode', StringType(), True), \n",
    "    StructField('DateOfRegistration', TimestampType(), True), \n",
    "    StructField('CustomerType', StringType(), True), \n",
    "    StructField('PAN', StringType(), True), \n",
    "    StructField('Aadhaar', StringType(), True)\n",
    "    ])\n"
   ]
  },
  {
   "cell_type": "code",
   "execution_count": 0,
   "metadata": {
    "application/vnd.databricks.v1+cell": {
     "cellMetadata": {
      "byteLimit": 2048000,
      "rowLimit": 10000
     },
     "inputWidgets": {},
     "nuid": "79b76873-4af5-4a14-b06d-082ac3e920b6",
     "showTitle": false,
     "tableResultSettingsMap": {},
     "title": ""
    }
   },
   "outputs": [],
   "source": [
    "#Load incoming df\n",
    "incoming_df = spark.read.format(\"parquet\").load(bronze_path)"
   ]
  },
  {
   "cell_type": "code",
   "execution_count": 0,
   "metadata": {
    "application/vnd.databricks.v1+cell": {
     "cellMetadata": {
      "byteLimit": 2048000,
      "rowLimit": 10000
     },
     "inputWidgets": {},
     "nuid": "11aa9a8c-3f9e-4da6-aa71-1d74c993a89c",
     "showTitle": false,
     "tableResultSettingsMap": {},
     "title": ""
    }
   },
   "outputs": [],
   "source": [
    "#Run validations\n",
    "validate_schema(incoming_df, expected_schema, \"customer\")"
   ]
  },
  {
   "cell_type": "markdown",
   "metadata": {
    "application/vnd.databricks.v1+cell": {
     "cellMetadata": {
      "byteLimit": 2048000,
      "rowLimit": 10000
     },
     "inputWidgets": {},
     "nuid": "1e67ecf6-5aa8-4149-9a3d-bd260d924e99",
     "showTitle": false,
     "tableResultSettingsMap": {},
     "title": ""
    }
   },
   "source": [
    "### **Incremental loading**"
   ]
  },
  {
   "cell_type": "code",
   "execution_count": 0,
   "metadata": {
    "application/vnd.databricks.v1+cell": {
     "cellMetadata": {
      "byteLimit": 2048000,
      "rowLimit": 10000
     },
     "inputWidgets": {},
     "nuid": "3876023c-7601-41db-aef6-8348d90a756a",
     "showTitle": false,
     "tableResultSettingsMap": {},
     "title": ""
    }
   },
   "outputs": [],
   "source": [
    "if DeltaTable.isDeltaTable(spark, silver_path):\n",
    "    silver_df = DeltaTable.forPath(spark, silver_path).toDF()\n",
    "    max_ts = silver_df.agg(max(col(\"DateOfRegistration\")).alias(\"max_ts\")).first()['max_ts']\n",
    "else:\n",
    "    max_ts = None\n",
    "\n",
    "if max_ts:\n",
    "    inc_df = incoming_df.filter(col(\"DateOfRegistration\") > lit(max_ts))\n",
    "else:\n",
    "    inc_df = incoming_df"
   ]
  },
  {
   "cell_type": "markdown",
   "metadata": {
    "application/vnd.databricks.v1+cell": {
     "cellMetadata": {
      "byteLimit": 2048000,
      "rowLimit": 10000
     },
     "inputWidgets": {},
     "nuid": "d75b8002-50fc-42ee-ab02-f2ee0770354e",
     "showTitle": false,
     "tableResultSettingsMap": {},
     "title": ""
    }
   },
   "source": [
    "### **Data validation**"
   ]
  },
  {
   "cell_type": "code",
   "execution_count": 0,
   "metadata": {
    "application/vnd.databricks.v1+cell": {
     "cellMetadata": {
      "byteLimit": 2048000,
      "rowLimit": 10000
     },
     "inputWidgets": {},
     "nuid": "4ffea4aa-e8a3-4380-9248-4416680631a1",
     "showTitle": false,
     "tableResultSettingsMap": {},
     "title": ""
    }
   },
   "outputs": [],
   "source": [
    "# Null handle \n",
    "df_notnull = inc_df.filter(col(\"CustomerID\").isNotNull() & col(\"Email\").isNotNull() & col(\"PhoneNumber\").isNotNull() &\n",
    "                        col(\"PAN\").isNotNull() &  col(\"Aadhaar\").isNotNull())\n",
    "\n",
    "#standardized format\n",
    "df_cust = df_notnull.withColumn(\"PhoneNumber\", regexp_replace(col(\"PhoneNumber\"), r\"[^0-9]\", \"\"))\n",
    "df_cust = df_cust.withColumn(\"Pincode\", regexp_replace(col(\"Pincode\"), r\"[^0-9]\", \"\"))\n",
    "df_cust = df_cust.withColumn(\"DateOfBirth\", to_date(col(\"DateOfBirth\"), \"MM-dd-yyyy\"))\n",
    "df_cust = df_cust.withColumn(\"DateOfRegistration\", to_timestamp(col(\"DateOfRegistration\"), \"MM-dd-yyyy HH:mm:ss\"))\n",
    "\n",
    "\n",
    "#Duplicates Handle\n",
    "window = Window.partitionBy(\"CustomerID\").orderBy(col(\"DateOfRegistration\").desc())\n",
    "\n",
    "df_cust = df_cust.withColumn(\"rank\", row_number().over(window)).filter(col(\"rank\") == 1).drop(\"rank\")\n"
   ]
  },
  {
   "cell_type": "markdown",
   "metadata": {
    "application/vnd.databricks.v1+cell": {
     "cellMetadata": {
      "byteLimit": 2048000,
      "rowLimit": 10000
     },
     "inputWidgets": {},
     "nuid": "656297f3-ef37-442f-a698-4f4301fc490e",
     "showTitle": false,
     "tableResultSettingsMap": {},
     "title": ""
    }
   },
   "source": [
    "**Data Count**"
   ]
  },
  {
   "cell_type": "code",
   "execution_count": 0,
   "metadata": {
    "application/vnd.databricks.v1+cell": {
     "cellMetadata": {
      "byteLimit": 2048000,
      "rowLimit": 10000
     },
     "inputWidgets": {},
     "nuid": "f45e5b67-42a6-483b-a04e-f8bd960e42d3",
     "showTitle": false,
     "tableResultSettingsMap": {},
     "title": ""
    }
   },
   "outputs": [],
   "source": [
    "incoming_rows = inc_df.count()\n",
    "loaded_rows = df_cust.count()\n",
    "rejected_rows = incoming_rows - loaded_rows\n",
    "print(f\"Incoming rows from bronze layer {incoming_rows}\")\n",
    "print(f\"Loaded rows to silver layer {loaded_rows}\")\n",
    "print(f\"Rejected rows {rejected_rows}\")"
   ]
  },
  {
   "cell_type": "markdown",
   "metadata": {
    "application/vnd.databricks.v1+cell": {
     "cellMetadata": {},
     "inputWidgets": {},
     "nuid": "5ce2ff58-5b13-4e9f-9946-8ae607490727",
     "showTitle": false,
     "tableResultSettingsMap": {},
     "title": ""
    }
   },
   "source": [
    "### **Write in silver layer**"
   ]
  },
  {
   "cell_type": "code",
   "execution_count": 0,
   "metadata": {
    "application/vnd.databricks.v1+cell": {
     "cellMetadata": {
      "byteLimit": 2048000,
      "rowLimit": 10000
     },
     "inputWidgets": {},
     "nuid": "80699603-6a0f-40a1-a6d1-9450da63bab2",
     "showTitle": false,
     "tableResultSettingsMap": {},
     "title": ""
    }
   },
   "outputs": [],
   "source": [
    "df_cust.write.format(\"delta\")\\\n",
    "       .mode(\"append\")\\\n",
    "       .save(silver_path)"
   ]
  }
 ],
 "metadata": {
  "application/vnd.databricks.v1+notebook": {
   "computePreferences": null,
   "dashboards": [],
   "environmentMetadata": {
    "base_environment": "",
    "environment_version": "3"
   },
   "inputWidgetPreferences": null,
   "language": "python",
   "notebookMetadata": {
    "pythonIndentUnit": 4
   },
   "notebookName": "silver_customer",
   "widgets": {}
  },
  "language_info": {
   "name": "python"
  }
 },
 "nbformat": 4,
 "nbformat_minor": 0
}
