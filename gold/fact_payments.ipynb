{
 "cells": [
  {
   "cell_type": "markdown",
   "metadata": {
    "application/vnd.databricks.v1+cell": {
     "cellMetadata": {},
     "inputWidgets": {},
     "nuid": "3f15a81d-4657-45d3-8d73-a63d16ac308a",
     "showTitle": false,
     "tableResultSettingsMap": {},
     "title": ""
    }
   },
   "source": [
    "### **Import packages**"
   ]
  },
  {
   "cell_type": "code",
   "execution_count": 0,
   "metadata": {
    "application/vnd.databricks.v1+cell": {
     "cellMetadata": {
      "byteLimit": 2048000,
      "rowLimit": 10000
     },
     "inputWidgets": {},
     "nuid": "351780c4-c3a5-48a0-9ebd-b56f6424aa40",
     "showTitle": false,
     "tableResultSettingsMap": {},
     "title": ""
    }
   },
   "outputs": [],
   "source": [
    "from pyspark.sql.functions import *\n",
    "from pyspark.sql.types import *\n",
    "from pyspark.sql.window import Window\n",
    "from delta.tables import *"
   ]
  },
  {
   "cell_type": "markdown",
   "metadata": {
    "application/vnd.databricks.v1+cell": {
     "cellMetadata": {},
     "inputWidgets": {},
     "nuid": "924a61c9-4ac1-49bb-a586-1ac82439f7cd",
     "showTitle": false,
     "tableResultSettingsMap": {},
     "title": ""
    }
   },
   "source": [
    "### **Define paths**"
   ]
  },
  {
   "cell_type": "code",
   "execution_count": 0,
   "metadata": {
    "application/vnd.databricks.v1+cell": {
     "cellMetadata": {
      "byteLimit": 2048000,
      "rowLimit": 10000
     },
     "inputWidgets": {},
     "nuid": "5c4ca24c-0547-46a0-9426-948cbfeaa0cc",
     "showTitle": false,
     "tableResultSettingsMap": {},
     "title": ""
    }
   },
   "outputs": [],
   "source": [
    "silver_path = \"abfss://silver@stfinancedev.dfs.core.windows.net/s_payments\"\n",
    "gold_path = \"abfss://gold@stfinancedev.dfs.core.windows.net/fact_payments\""
   ]
  },
  {
   "cell_type": "markdown",
   "metadata": {
    "application/vnd.databricks.v1+cell": {
     "cellMetadata": {},
     "inputWidgets": {},
     "nuid": "b816e831-80e9-4b03-9c51-e00455f014e8",
     "showTitle": false,
     "tableResultSettingsMap": {},
     "title": ""
    }
   },
   "source": [
    "### **Create fact_payments delta lake table schema**"
   ]
  },
  {
   "cell_type": "code",
   "execution_count": 0,
   "metadata": {
    "application/vnd.databricks.v1+cell": {
     "cellMetadata": {
      "byteLimit": 2048000,
      "implicitDf": true,
      "rowLimit": 10000
     },
     "inputWidgets": {},
     "nuid": "527a1432-0c09-4751-854d-41ed52fbd2ea",
     "showTitle": false,
     "tableResultSettingsMap": {},
     "title": ""
    }
   },
   "outputs": [],
   "source": [
    "%sql\n",
    "CREATE TABLE IF NOT EXISTS finance_cata.gold.fact_payments(\n",
    "  Paymentkey BIGINT GENERATED ALWAYS AS IDENTITY(START WITH 1 INCREMENT BY 1),\n",
    "  PaymentID STRING,\n",
    "  CustomerKey BIGINT,\n",
    "  Accountkey BIGINT,\n",
    "  Branchkey BIGINT,\n",
    "  Transaction_amt DECIMAL(18,2),\n",
    "  PaymentDatekey BIGINT,\n",
    "  PaymentType STRING,\n",
    "  PaymentAmount STRING,\n",
    "  Status STRING,\n",
    "  FraudScore STRING,\n",
    "  FraudFlag STRING,\n",
    "  CreatedAt TIMESTAMP\n",
    ")USING DELTA \n",
    "LOCATION 'abfss://gold@stfinancedev.dfs.core.windows.net/fact_payments'"
   ]
  },
  {
   "cell_type": "markdown",
   "metadata": {
    "application/vnd.databricks.v1+cell": {
     "cellMetadata": {},
     "inputWidgets": {},
     "nuid": "97d02651-81e0-48fd-80c2-102cb96b92fe",
     "showTitle": false,
     "tableResultSettingsMap": {},
     "title": ""
    }
   },
   "source": [
    "### **Incremental load**"
   ]
  },
  {
   "cell_type": "code",
   "execution_count": 0,
   "metadata": {
    "application/vnd.databricks.v1+cell": {
     "cellMetadata": {
      "byteLimit": 2048000,
      "rowLimit": 10000
     },
     "inputWidgets": {},
     "nuid": "7e0297e4-c930-4bc1-b377-e30f2defcdba",
     "showTitle": false,
     "tableResultSettingsMap": {},
     "title": ""
    }
   },
   "outputs": [],
   "source": [
    "if DeltaTable.isDeltaTable(spark, gold_path):\n",
    "    fact_df = DeltaTable.forPath(spark, gold_path).toDF()\n",
    "    max_datekey = fact_df.agg(max(col(\"PaymentDatekey\")).alias(\"max_datekey\"))\\\n",
    "                        .first()[\"max_datekey\"]\n",
    "else:\n",
    "    max_datekey = None\n",
    "\n",
    "if max_datekey:\n",
    "    inc_df = spark.read.format(\"delta\").load(silver_path)\\\n",
    "             .withColumn(\"PaymentDateTime\", date_format(col(\"PaymentDateTime\"), \"yyyyMMdd\").cast(\"bigint\"))\\\n",
    "             .filter(col(\"PaymentDateTime\") > lit(max_datekey))\n",
    "else:\n",
    "    inc_df = spark.read.format(\"delta\").load(silver_path)\\\n",
    "             .withColumn(\"PaymentDateTime\", date_format(col(\"PaymentDateTime\"), \"yyyyMMdd\").cast(\"bigint\"))"
   ]
  },
  {
   "cell_type": "code",
   "execution_count": 0,
   "metadata": {
    "application/vnd.databricks.v1+cell": {
     "cellMetadata": {
      "byteLimit": 2048000,
      "rowLimit": 10000
     },
     "inputWidgets": {},
     "nuid": "7bdb76ee-18c1-4047-baf4-ab14f21ed97c",
     "showTitle": false,
     "tableResultSettingsMap": {},
     "title": ""
    }
   },
   "outputs": [],
   "source": [
    "#create temp view \n",
    "inc_df.createOrReplaceTempView(\"fact_payments\")"
   ]
  },
  {
   "cell_type": "code",
   "execution_count": 0,
   "metadata": {
    "application/vnd.databricks.v1+cell": {
     "cellMetadata": {
      "byteLimit": 2048000,
      "implicitDf": true,
      "rowLimit": 10000
     },
     "inputWidgets": {},
     "nuid": "f31d585d-6786-4923-a6d9-6d360d019270",
     "showTitle": false,
     "tableResultSettingsMap": {},
     "title": ""
    }
   },
   "outputs": [],
   "source": [
    "%sql\n",
    "select * from fact_payments"
   ]
  },
  {
   "cell_type": "markdown",
   "metadata": {
    "application/vnd.databricks.v1+cell": {
     "cellMetadata": {},
     "inputWidgets": {},
     "nuid": "fc96c0df-4c3e-4aba-853a-b2f3adf6587d",
     "showTitle": false,
     "tableResultSettingsMap": {},
     "title": ""
    }
   },
   "source": [
    "### **Create Fact_payments**"
   ]
  },
  {
   "cell_type": "code",
   "execution_count": 0,
   "metadata": {
    "application/vnd.databricks.v1+cell": {
     "cellMetadata": {
      "byteLimit": 2048000,
      "rowLimit": 10000
     },
     "inputWidgets": {},
     "nuid": "a095c7c7-4446-4f0b-8cef-ce722a6f95da",
     "showTitle": false,
     "tableResultSettingsMap": {},
     "title": ""
    }
   },
   "outputs": [],
   "source": [
    "df = spark.sql(\"\"\"\n",
    "               SELECT \n",
    "                fp.PaymentID ,\n",
    "                dc.CustomerKey ,\n",
    "                da.Accountkey ,\n",
    "                db.Branchkey ,\n",
    "                fp.TransactionID ,\n",
    "                fp.PaymentDateTime ,\n",
    "                fp.PaymentType ,\n",
    "                fp.PaymentAmount ,\n",
    "                fp.Status ,\n",
    "                fp.FraudScore ,\n",
    "                fp.FraudFlag \n",
    "               FROM fact_payments AS fp\n",
    "               INNER JOIN finance_cata.gold.dim_customers AS dc\n",
    "               ON fp.CustomerID = dc.CustomerID\n",
    "               INNER JOIN finance_cata.gold.dim_accounts AS da\n",
    "               ON fp.AccountID = da.AccountID\n",
    "               LEFT JOIN finance_cata.gold.dim_branches AS db\n",
    "               ON da.BranchID = db.BranchID\n",
    "               \"\"\")"
   ]
  },
  {
   "cell_type": "code",
   "execution_count": 0,
   "metadata": {
    "application/vnd.databricks.v1+cell": {
     "cellMetadata": {
      "byteLimit": 2048000,
      "rowLimit": 10000
     },
     "inputWidgets": {},
     "nuid": "661d4102-f49b-49d7-ada8-7b9d1075e714",
     "showTitle": false,
     "tableResultSettingsMap": {},
     "title": ""
    }
   },
   "outputs": [],
   "source": [
    "df.display()"
   ]
  },
  {
   "cell_type": "markdown",
   "metadata": {
    "application/vnd.databricks.v1+cell": {
     "cellMetadata": {},
     "inputWidgets": {},
     "nuid": "b1d90d8f-1b7f-4b60-b6d3-2ef485635916",
     "showTitle": false,
     "tableResultSettingsMap": {},
     "title": ""
    }
   },
   "source": [
    "### **Add stg columns**"
   ]
  },
  {
   "cell_type": "code",
   "execution_count": 0,
   "metadata": {
    "application/vnd.databricks.v1+cell": {
     "cellMetadata": {
      "byteLimit": 2048000,
      "rowLimit": 10000
     },
     "inputWidgets": {},
     "nuid": "08f6fdfc-eb8c-4173-86e9-c97a957091f9",
     "showTitle": false,
     "tableResultSettingsMap": {},
     "title": ""
    }
   },
   "outputs": [],
   "source": [
    "df_ready = df.withColumn(\"TransactionID\", col(\"TransactionID\").cast(\"decimal(18,2)\"))\\\n",
    "              .withColumnRenamed(\"TransactionID\",\"Transaction_amt\")\\\n",
    "              .withColumnRenamed(\"PaymentDateTime\", \"PaymentDateKey\")\\\n",
    "              .withColumn(\"CreatedAt\", current_timestamp())"
   ]
  },
  {
   "cell_type": "code",
   "execution_count": 0,
   "metadata": {
    "application/vnd.databricks.v1+cell": {
     "cellMetadata": {
      "byteLimit": 2048000,
      "rowLimit": 10000
     },
     "inputWidgets": {},
     "nuid": "8076cdea-4ead-43e0-9689-37aa37cea5cf",
     "showTitle": false,
     "tableResultSettingsMap": {
      "0": {
       "dataGridStateBlob": "{\"version\":1,\"tableState\":{\"columnPinning\":{\"left\":[\"#row_number#\"],\"right\":[]},\"columnSizing\":{},\"columnVisibility\":{}},\"settings\":{\"columns\":{}},\"syncTimestamp\":1757229880478}",
       "filterBlob": null,
       "queryPlanFiltersBlob": null,
       "tableResultIndex": 0
      }
     },
     "title": ""
    }
   },
   "outputs": [],
   "source": [
    "df_ready.display()"
   ]
  },
  {
   "cell_type": "markdown",
   "metadata": {
    "application/vnd.databricks.v1+cell": {
     "cellMetadata": {},
     "inputWidgets": {},
     "nuid": "fc2f0868-ef68-46f3-aaaa-0dcedd8e5e56",
     "showTitle": false,
     "tableResultSettingsMap": {},
     "title": ""
    }
   },
   "source": [
    "### **Write in gold layer**"
   ]
  },
  {
   "cell_type": "code",
   "execution_count": 0,
   "metadata": {
    "application/vnd.databricks.v1+cell": {
     "cellMetadata": {
      "byteLimit": 2048000,
      "rowLimit": 10000
     },
     "inputWidgets": {},
     "nuid": "1e998416-5242-4bc7-a039-9b218aed1f71",
     "showTitle": false,
     "tableResultSettingsMap": {},
     "title": ""
    }
   },
   "outputs": [],
   "source": [
    "df_ready.write.format(\"delta\").mode(\"append\").save(gold_path)"
   ]
  },
  {
   "cell_type": "code",
   "execution_count": 0,
   "metadata": {
    "application/vnd.databricks.v1+cell": {
     "cellMetadata": {
      "byteLimit": 2048000,
      "implicitDf": true,
      "rowLimit": 10000
     },
     "inputWidgets": {},
     "nuid": "21a06b2b-e9c7-4f1c-afd3-6f4ef7758b01",
     "showTitle": false,
     "tableResultSettingsMap": {},
     "title": ""
    }
   },
   "outputs": [],
   "source": [
    "%sql\n",
    "select  * from finance_cata.gold.fact_payments"
   ]
  }
 ],
 "metadata": {
  "application/vnd.databricks.v1+notebook": {
   "computePreferences": null,
   "dashboards": [],
   "environmentMetadata": {
    "base_environment": "",
    "environment_version": "3"
   },
   "inputWidgetPreferences": null,
   "language": "python",
   "notebookMetadata": {
    "mostRecentlyExecutedCommandWithImplicitDF": {
     "commandId": 5316577690647599,
     "dataframes": [
      "_sqldf"
     ]
    },
    "pythonIndentUnit": 4
   },
   "notebookName": "fact_payments",
   "widgets": {}
  },
  "language_info": {
   "name": "python"
  }
 },
 "nbformat": 4,
 "nbformat_minor": 0
}
