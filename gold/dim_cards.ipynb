{
 "cells": [
  {
   "cell_type": "markdown",
   "metadata": {
    "application/vnd.databricks.v1+cell": {
     "cellMetadata": {
      "byteLimit": 2048000,
      "rowLimit": 10000
     },
     "inputWidgets": {},
     "nuid": "ceb1f393-c7e2-4526-aa2b-f9fd01a92fc8",
     "showTitle": false,
     "tableResultSettingsMap": {},
     "title": ""
    }
   },
   "source": [
    "### **Import packages**"
   ]
  },
  {
   "cell_type": "code",
   "execution_count": 0,
   "metadata": {
    "application/vnd.databricks.v1+cell": {
     "cellMetadata": {
      "byteLimit": 2048000,
      "rowLimit": 10000
     },
     "inputWidgets": {},
     "nuid": "a179ba34-6ac9-45ad-ac6c-bee5d4ae40bc",
     "showTitle": false,
     "tableResultSettingsMap": {},
     "title": ""
    }
   },
   "outputs": [],
   "source": [
    "from pyspark.sql.functions import *\n",
    "from pyspark.sql.types import *\n",
    "from pyspark.sql.window import Window\n",
    "from delta.tables import DeltaTable"
   ]
  },
  {
   "cell_type": "markdown",
   "metadata": {
    "application/vnd.databricks.v1+cell": {
     "cellMetadata": {
      "byteLimit": 2048000,
      "rowLimit": 10000
     },
     "inputWidgets": {},
     "nuid": "8111efe1-c029-488d-bdc3-fcd8584c9760",
     "showTitle": false,
     "tableResultSettingsMap": {},
     "title": ""
    }
   },
   "source": [
    "### **Define paths**"
   ]
  },
  {
   "cell_type": "code",
   "execution_count": 0,
   "metadata": {
    "application/vnd.databricks.v1+cell": {
     "cellMetadata": {
      "byteLimit": 2048000,
      "rowLimit": 10000
     },
     "inputWidgets": {},
     "nuid": "d5abd95d-1a6e-4f34-8b23-106036a084a4",
     "showTitle": false,
     "tableResultSettingsMap": {},
     "title": ""
    }
   },
   "outputs": [],
   "source": [
    "silver_path = \"abfss://silver@stfinancedev.dfs.core.windows.net/s_cards\"\n",
    "gold_path = \"abfss://gold@stfinancedev.dfs.core.windows.net/dim_cards\""
   ]
  },
  {
   "cell_type": "markdown",
   "metadata": {
    "application/vnd.databricks.v1+cell": {
     "cellMetadata": {
      "byteLimit": 2048000,
      "rowLimit": 10000
     },
     "inputWidgets": {},
     "nuid": "fcf00d5f-6da8-4621-b912-764a65c73d46",
     "showTitle": false,
     "tableResultSettingsMap": {},
     "title": ""
    }
   },
   "source": [
    "### **Create delta table schema**"
   ]
  },
  {
   "cell_type": "code",
   "execution_count": 0,
   "metadata": {
    "application/vnd.databricks.v1+cell": {
     "cellMetadata": {
      "byteLimit": 2048000,
      "rowLimit": 10000
     },
     "inputWidgets": {},
     "nuid": "51b52a3c-fba4-456d-8ecc-ea946e74d5ca",
     "showTitle": false,
     "tableResultSettingsMap": {},
     "title": ""
    }
   },
   "outputs": [],
   "source": [
    "spark.sql(f\"\"\"\n",
    "          CREATE TABLE IF NOT EXISTS finance_cata.gold.dim_cards(\n",
    "              Cardkey BIGINT GENERATED ALWAYS AS IDENTITY(START WITH 1 INCREMENT BY 1),\n",
    "              CardID STRING,\n",
    "              CustomerID STRING,\n",
    "              AccountID STRING,\n",
    "              CardNumber STRING,\n",
    "              CardType STRING,\n",
    "              ExpiryDate STRING,\n",
    "              CVV STRING,\n",
    "              CreditLimit STRING,\n",
    "              CardStatus STRING,\n",
    "              IssueDate TIMESTAMP,\n",
    "              StartDate TIMESTAMP,\n",
    "              EndDate TIMESTAMP,\n",
    "              IsActive BOOLEAN\n",
    "              ) USING DELTA\n",
    "              LOCATION '{gold_path}'\n",
    "          \"\"\")"
   ]
  },
  {
   "cell_type": "markdown",
   "metadata": {
    "application/vnd.databricks.v1+cell": {
     "cellMetadata": {
      "byteLimit": 2048000,
      "rowLimit": 10000
     },
     "inputWidgets": {},
     "nuid": "0d63ebb4-6651-4499-b6b2-0766e6de2a34",
     "showTitle": false,
     "tableResultSettingsMap": {},
     "title": ""
    }
   },
   "source": [
    "### **Load silver data**"
   ]
  },
  {
   "cell_type": "code",
   "execution_count": 0,
   "metadata": {
    "application/vnd.databricks.v1+cell": {
     "cellMetadata": {
      "byteLimit": 2048000,
      "rowLimit": 10000
     },
     "inputWidgets": {},
     "nuid": "e65af46c-b914-4e87-97f6-1d4571fc7331",
     "showTitle": false,
     "tableResultSettingsMap": {},
     "title": ""
    }
   },
   "outputs": [],
   "source": [
    "silver_df = spark.read.format(\"delta\").load(silver_path)"
   ]
  },
  {
   "cell_type": "markdown",
   "metadata": {
    "application/vnd.databricks.v1+cell": {
     "cellMetadata": {
      "byteLimit": 2048000,
      "rowLimit": 10000
     },
     "inputWidgets": {},
     "nuid": "15d91605-16f0-44a1-b807-9f2b8e7345e1",
     "showTitle": false,
     "tableResultSettingsMap": {},
     "title": ""
    }
   },
   "source": [
    "### **Add SCD 2 columns**"
   ]
  },
  {
   "cell_type": "code",
   "execution_count": 0,
   "metadata": {
    "application/vnd.databricks.v1+cell": {
     "cellMetadata": {
      "byteLimit": 2048000,
      "rowLimit": 10000
     },
     "inputWidgets": {},
     "nuid": "8957a0db-b0f2-4e23-b392-b0cf43ffe1a5",
     "showTitle": false,
     "tableResultSettingsMap": {},
     "title": ""
    }
   },
   "outputs": [],
   "source": [
    "silver_df = silver_df.withColumn(\"StartDate\", current_timestamp())\\\n",
    "                     .withColumn(\"EndDate\", lit(None).cast(\"timestamp\"))\\\n",
    "                     .withColumn(\"IsActive\", lit(True))"
   ]
  },
  {
   "cell_type": "code",
   "execution_count": 0,
   "metadata": {
    "application/vnd.databricks.v1+cell": {
     "cellMetadata": {
      "byteLimit": 2048000,
      "rowLimit": 10000
     },
     "inputWidgets": {},
     "nuid": "3b256ba7-f8e7-4c88-855e-624ac2edd01d",
     "showTitle": false,
     "tableResultSettingsMap": {},
     "title": ""
    }
   },
   "outputs": [],
   "source": [
    "silver_df.display()"
   ]
  },
  {
   "cell_type": "markdown",
   "metadata": {
    "application/vnd.databricks.v1+cell": {
     "cellMetadata": {},
     "inputWidgets": {},
     "nuid": "218f00de-47dd-4bb6-9e79-fd8413d8fcc0",
     "showTitle": false,
     "tableResultSettingsMap": {},
     "title": ""
    }
   },
   "source": [
    "### **Load gold data**"
   ]
  },
  {
   "cell_type": "code",
   "execution_count": 0,
   "metadata": {
    "application/vnd.databricks.v1+cell": {
     "cellMetadata": {
      "byteLimit": 2048000,
      "rowLimit": 10000
     },
     "inputWidgets": {},
     "nuid": "905f984b-465d-4183-8a11-0debfd46d5e9",
     "showTitle": false,
     "tableResultSettingsMap": {},
     "title": ""
    }
   },
   "outputs": [],
   "source": [
    "if DeltaTable.isDeltaTable(spark, gold_path):\n",
    "    dim_cards = DeltaTable.forPath(spark, gold_path)\n",
    "else:\n",
    "    # First-time load \n",
    "    silver_df.write.format(\"delta\").mode(\"append\").save(gold_path)\n",
    "    dim_cards = DeltaTable.forPath(spark, gold_path)"
   ]
  },
  {
   "cell_type": "markdown",
   "metadata": {
    "application/vnd.databricks.v1+cell": {
     "cellMetadata": {},
     "inputWidgets": {},
     "nuid": "9637333a-e78e-4914-bd1e-16ba576425ce",
     "showTitle": false,
     "tableResultSettingsMap": {},
     "title": ""
    }
   },
   "source": [
    "### **Delta merge & Load data in gold layer**"
   ]
  },
  {
   "cell_type": "code",
   "execution_count": 0,
   "metadata": {
    "application/vnd.databricks.v1+cell": {
     "cellMetadata": {
      "byteLimit": 2048000,
      "rowLimit": 10000
     },
     "inputWidgets": {},
     "nuid": "abb182e0-6f66-4221-af6a-10b221cfdccc",
     "showTitle": false,
     "tableResultSettingsMap": {},
     "title": ""
    }
   },
   "outputs": [],
   "source": [
    "(\n",
    "    dim_cards.alias(\"t\")\n",
    "    .merge(\n",
    "        silver_df.alias(\"s\"),\n",
    "        \"t.CardID = s.CardID AND t.IsActive = true\"\n",
    "    )\n",
    "    .whenMatchedUpdate(\n",
    "        condition=\"\"\"\n",
    "        t.CustomerID <> s.CustomerID OR\n",
    "        t.AccountID <> s.AccountID OR\n",
    "        t.CardNumber <> s.CardNumber OR\n",
    "        t.CardType <> s.CardType OR\n",
    "        t.ExpiryDate <> s.ExpiryDate OR\n",
    "        t.CVV <> s.CVV OR\n",
    "        t.CreditLimit <> s.CreditLimit OR\n",
    "        t.CardStatus <> s.CardStatus OR\n",
    "        t.IssueDate <> s.IssueDate OR\n",
    "        \"\"\",\n",
    "        set={\n",
    "            \"EndDate\" : current_timestamp(),\n",
    "            \"IsActive\" :\"false\"\n",
    "        }\n",
    "    )\n",
    "    .whenNotMatchedInsert(\n",
    "        values={\n",
    "            \"CardID\": \"s.CardID\",\n",
    "            \"CustomerID\": \"s.CustomerID\",\n",
    "            \"AccountID\": \"s.AccountID\",\n",
    "            \"CardNumber\": \"s.CardNumber\",\n",
    "            \"CardType\": \"s.CardType\",\n",
    "            \"ExpiryDate\": \"s.ExpiryDate\",\n",
    "            \"CVV\": \"s.CVV\",\n",
    "            \"CreditLimit\": \"s.CreditLimit\",\n",
    "            \"CardStatus\": \"s.CardStatus\",\n",
    "            \"IssueDate\": \"s.IssueDate\",\n",
    "            \"StartDate\": \"s.StartDate\",\n",
    "            \"EndDate\": \"s.EndDate\",\n",
    "            \"IsActive\": \"s.IsActive\"}\n",
    "    )\n",
    "    .execute()\n",
    ")"
   ]
  }
 ],
 "metadata": {
  "application/vnd.databricks.v1+notebook": {
   "computePreferences": null,
   "dashboards": [],
   "environmentMetadata": {
    "base_environment": "",
    "environment_version": "3"
   },
   "inputWidgetPreferences": null,
   "language": "python",
   "notebookMetadata": {
    "pythonIndentUnit": 4
   },
   "notebookName": "dim_cards",
   "widgets": {}
  },
  "language_info": {
   "name": "python"
  }
 },
 "nbformat": 4,
 "nbformat_minor": 0
}
