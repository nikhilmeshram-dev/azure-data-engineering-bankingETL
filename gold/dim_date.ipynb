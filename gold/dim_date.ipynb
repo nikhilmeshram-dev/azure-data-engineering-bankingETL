{
 "cells": [
  {
   "cell_type": "markdown",
   "metadata": {
    "application/vnd.databricks.v1+cell": {
     "cellMetadata": {},
     "inputWidgets": {},
     "nuid": "3c21dce4-ee69-4c3b-a7a9-a9554d6ee119",
     "showTitle": false,
     "tableResultSettingsMap": {},
     "title": ""
    }
   },
   "source": [
    "### **Create delta lake dim_date table using SQL**"
   ]
  },
  {
   "cell_type": "code",
   "execution_count": 0,
   "metadata": {
    "application/vnd.databricks.v1+cell": {
     "cellMetadata": {
      "byteLimit": 2048000,
      "implicitDf": true,
      "rowLimit": 10000
     },
     "inputWidgets": {},
     "nuid": "1d2a2ea7-b27b-4132-a197-33bfae76f853",
     "showTitle": false,
     "tableResultSettingsMap": {},
     "title": ""
    }
   },
   "outputs": [],
   "source": [
    "%sql\n",
    "CREATE TABLE IF NOT EXISTS finance_cata.gold.dim_date\n",
    "USING DELTA\n",
    "LOCATION 'abfss://gold@stfinancedev.dfs.core.windows.net/dim_date'\n",
    "AS\n",
    "WITH DateSequence(\n",
    "  SELECT explode(sequence(to_date('2010-01-01'),to_date('2030-12-31'),interval 1 day)) as FullDate\n",
    ")\n",
    "SELECT\n",
    "    CAST(date_format(FullDate, 'yyyyMMdd') AS INT) AS DateKey,\n",
    "    FullDate,\n",
    "    YEAR(FullDate) AS Year,\n",
    "    MONTH(FullDate) AS Month,\n",
    "    date_format(FullDate, 'MMMM') AS MonthName,\n",
    "    CASE WHEN QUARTER(FullDate) = 1 THEN 'Q1'\n",
    "         WHEN QUARTER(FullDate) = 2 THEN 'Q2'\n",
    "         WHEN QUARTER(FullDate) = 3 THEN 'Q3'\n",
    "         WHEN QUARTER(FullDate) = 4 THEN 'Q4' END AS Quarter,\n",
    "    weekofyear(FullDate) AS WeekOfYear,\n",
    "    day(FullDate) AS DayOfMonth,\n",
    "    dayofweek(FullDate) AS DayOfWeek,\n",
    "    date_format(FullDate, 'EEEE') AS DayName,\n",
    "    CASE WHEN dayofweek(FullDate) IN (1,7) THEN 'WeekEnd' ELSE 'WorkDay' END AS IsWeekend\n",
    "FROM DateSequence\n",
    "ORDER BY FullDate;"
   ]
  },
  {
   "cell_type": "code",
   "execution_count": 0,
   "metadata": {
    "application/vnd.databricks.v1+cell": {
     "cellMetadata": {
      "byteLimit": 2048000,
      "rowLimit": 10000
     },
     "inputWidgets": {},
     "nuid": "ed4c816d-4de1-41c5-9bc4-42d90daa3ea8",
     "showTitle": false,
     "tableResultSettingsMap": {},
     "title": ""
    }
   },
   "outputs": [],
   "source": [
    "df = spark.sql(\"\"\"select * from finance_cata.gold.dim_date\"\"\")"
   ]
  },
  {
   "cell_type": "code",
   "execution_count": 0,
   "metadata": {
    "application/vnd.databricks.v1+cell": {
     "cellMetadata": {
      "byteLimit": 2048000,
      "rowLimit": 10000
     },
     "inputWidgets": {},
     "nuid": "e58bc4f9-d7b2-4a76-a3be-ae4fd721e008",
     "showTitle": false,
     "tableResultSettingsMap": {},
     "title": ""
    }
   },
   "outputs": [],
   "source": [
    "df.display()"
   ]
  },
  {
   "cell_type": "code",
   "execution_count": 0,
   "metadata": {
    "application/vnd.databricks.v1+cell": {
     "cellMetadata": {
      "byteLimit": 2048000,
      "rowLimit": 10000
     },
     "inputWidgets": {},
     "nuid": "734d05d4-cec6-4d4e-a31e-c4fc8893af26",
     "showTitle": false,
     "tableResultSettingsMap": {},
     "title": ""
    }
   },
   "outputs": [],
   "source": [
    "df.write.format(\"delta\").mode(\"overwrite\").save('abfss://gold@stfinancedev.dfs.core.windows.net/dim_date')"
   ]
  }
 ],
 "metadata": {
  "application/vnd.databricks.v1+notebook": {
   "computePreferences": {
    "hardware": {
     "accelerator": null,
     "gpuPoolId": null,
     "memory": null
    }
   },
   "dashboards": [],
   "environmentMetadata": {
    "base_environment": "",
    "environment_version": "3"
   },
   "inputWidgetPreferences": null,
   "language": "python",
   "notebookMetadata": {
    "mostRecentlyExecutedCommandWithImplicitDF": {
     "commandId": 5120732968287003,
     "dataframes": [
      "_sqldf"
     ]
    },
    "pythonIndentUnit": 4
   },
   "notebookName": "dim_date",
   "widgets": {}
  },
  "language_info": {
   "name": "python"
  }
 },
 "nbformat": 4,
 "nbformat_minor": 0
}
