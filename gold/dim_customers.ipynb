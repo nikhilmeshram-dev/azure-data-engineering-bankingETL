{
 "cells": [
  {
   "cell_type": "markdown",
   "metadata": {
    "application/vnd.databricks.v1+cell": {
     "cellMetadata": {},
     "inputWidgets": {},
     "nuid": "26d090b2-7ea9-4a78-9cb4-8aa33b6a1cb6",
     "showTitle": false,
     "tableResultSettingsMap": {},
     "title": ""
    }
   },
   "source": [
    "### **Import packages**"
   ]
  },
  {
   "cell_type": "code",
   "execution_count": 0,
   "metadata": {
    "application/vnd.databricks.v1+cell": {
     "cellMetadata": {
      "byteLimit": 2048000,
      "rowLimit": 10000
     },
     "inputWidgets": {},
     "nuid": "65367106-1a9b-414c-9de5-3726ce424c32",
     "showTitle": false,
     "tableResultSettingsMap": {},
     "title": ""
    }
   },
   "outputs": [],
   "source": [
    "from pyspark.sql.functions import *\n",
    "from pyspark.sql.types import *\n",
    "from pyspark.sql.window import Window\n",
    "from delta.tables import DeltaTable"
   ]
  },
  {
   "cell_type": "markdown",
   "metadata": {
    "application/vnd.databricks.v1+cell": {
     "cellMetadata": {},
     "inputWidgets": {},
     "nuid": "9da8bbf5-f8a0-47d8-a612-ce8dff3be1d4",
     "showTitle": false,
     "tableResultSettingsMap": {},
     "title": ""
    }
   },
   "source": [
    "### **Define paths**"
   ]
  },
  {
   "cell_type": "code",
   "execution_count": 0,
   "metadata": {
    "application/vnd.databricks.v1+cell": {
     "cellMetadata": {
      "byteLimit": 2048000,
      "rowLimit": 10000
     },
     "inputWidgets": {},
     "nuid": "00fcf3ab-5b59-44d3-9f15-eb7625c7342d",
     "showTitle": false,
     "tableResultSettingsMap": {},
     "title": ""
    }
   },
   "outputs": [],
   "source": [
    "silver_path = \"abfss://silver@stfinancedev.dfs.core.windows.net/s_customers\"\n",
    "gold_path = \"abfss://gold@stfinancedev.dfs.core.windows.net/dim_customers\"\n"
   ]
  },
  {
   "cell_type": "markdown",
   "metadata": {
    "application/vnd.databricks.v1+cell": {
     "cellMetadata": {},
     "inputWidgets": {},
     "nuid": "faea4c76-9f47-4c7c-9063-3c6774b17b9e",
     "showTitle": false,
     "tableResultSettingsMap": {},
     "title": ""
    }
   },
   "source": [
    "### **Create dim_customers delta table schema**"
   ]
  },
  {
   "cell_type": "code",
   "execution_count": 0,
   "metadata": {
    "application/vnd.databricks.v1+cell": {
     "cellMetadata": {
      "byteLimit": 2048000,
      "implicitDf": true,
      "rowLimit": 10000
     },
     "inputWidgets": {},
     "nuid": "e0fe49e8-b759-49a0-9044-bee468d42946",
     "showTitle": false,
     "tableResultSettingsMap": {},
     "title": ""
    }
   },
   "outputs": [],
   "source": [
    "%sql\n",
    "--create catalog finance_cata\n",
    "---create schema finance_cata.gold"
   ]
  },
  {
   "cell_type": "code",
   "execution_count": 0,
   "metadata": {
    "application/vnd.databricks.v1+cell": {
     "cellMetadata": {
      "byteLimit": 2048000,
      "rowLimit": 10000
     },
     "inputWidgets": {},
     "nuid": "17b3b7ef-f688-4ffb-83cc-92f0f30d7f64",
     "showTitle": false,
     "tableResultSettingsMap": {},
     "title": ""
    }
   },
   "outputs": [],
   "source": [
    "#define schema \n",
    "spark.sql(f\"\"\"\n",
    "          CREATE TABLE IF NOT EXISTS finance_cata.gold.dim_customers(\n",
    "                CustomerKey BIGINT GENERATED ALWAYS AS IDENTITY(START WITH 1 INCREMENT BY 1),\n",
    "                CustomerID INTEGER,\n",
    "                FirstName STRING,\n",
    "                LastName  STRING,\n",
    "                DateOfBirth DATE,\n",
    "                Gender  STRING,\n",
    "                Email STRING,\n",
    "                PhoneNumber STRING,\n",
    "                Address STRING,\n",
    "                City STRING,\n",
    "                State STRING,\n",
    "                Pincode STRING,\n",
    "                DateOfRegistration TIMESTAMP,\n",
    "                CustomerType STRING,\n",
    "                PAN STRING,\n",
    "                Aadhaar STRING,\n",
    "                StartDate TIMESTAMP,\n",
    "                EndDate TIMESTAMP,\n",
    "                IsActive BOOLEAN\n",
    "          )USING DELTA\n",
    "          LOCATION '{gold_path}'\n",
    "          \"\"\")"
   ]
  },
  {
   "cell_type": "markdown",
   "metadata": {
    "application/vnd.databricks.v1+cell": {
     "cellMetadata": {},
     "inputWidgets": {},
     "nuid": "9397a9c3-fb67-439d-83f6-752944bad50e",
     "showTitle": false,
     "tableResultSettingsMap": {},
     "title": ""
    }
   },
   "source": [
    "### **Load silver data**"
   ]
  },
  {
   "cell_type": "code",
   "execution_count": 0,
   "metadata": {
    "application/vnd.databricks.v1+cell": {
     "cellMetadata": {
      "byteLimit": 2048000,
      "rowLimit": 10000
     },
     "inputWidgets": {},
     "nuid": "e451c7de-283b-46ba-930f-d19739c77257",
     "showTitle": false,
     "tableResultSettingsMap": {},
     "title": ""
    }
   },
   "outputs": [],
   "source": [
    "silver_df = spark.read.format(\"delta\").load(silver_path)"
   ]
  },
  {
   "cell_type": "markdown",
   "metadata": {
    "application/vnd.databricks.v1+cell": {
     "cellMetadata": {},
     "inputWidgets": {},
     "nuid": "d3a746d0-e8d4-42f1-9c49-d77f855300df",
     "showTitle": false,
     "tableResultSettingsMap": {},
     "title": ""
    }
   },
   "source": [
    "### **Add SCD 2 columns**"
   ]
  },
  {
   "cell_type": "code",
   "execution_count": 0,
   "metadata": {
    "application/vnd.databricks.v1+cell": {
     "cellMetadata": {
      "byteLimit": 2048000,
      "rowLimit": 10000
     },
     "inputWidgets": {},
     "nuid": "d3f6f851-6c6d-4900-9a07-3177c3afc192",
     "showTitle": false,
     "tableResultSettingsMap": {},
     "title": ""
    }
   },
   "outputs": [],
   "source": [
    "silver_df = silver_df.withColumn(\"StartDate\", current_timestamp())\\\n",
    "                     .withColumn(\"EndDate\", lit(None).cast(\"timestamp\"))\\\n",
    "                     .withColumn(\"IsActive\", lit(True))"
   ]
  },
  {
   "cell_type": "code",
   "execution_count": 0,
   "metadata": {
    "application/vnd.databricks.v1+cell": {
     "cellMetadata": {
      "byteLimit": 2048000,
      "rowLimit": 10000
     },
     "inputWidgets": {},
     "nuid": "22785d1f-4451-4dd6-9125-12dbb4c3ad33",
     "showTitle": false,
     "tableResultSettingsMap": {},
     "title": ""
    }
   },
   "outputs": [],
   "source": [
    "silver_df.display()"
   ]
  },
  {
   "cell_type": "markdown",
   "metadata": {
    "application/vnd.databricks.v1+cell": {
     "cellMetadata": {},
     "inputWidgets": {},
     "nuid": "379e23ff-adf3-4a54-a39c-e9ed85409b0a",
     "showTitle": false,
     "tableResultSettingsMap": {},
     "title": ""
    }
   },
   "source": [
    "### **Load gold data**"
   ]
  },
  {
   "cell_type": "code",
   "execution_count": 0,
   "metadata": {
    "application/vnd.databricks.v1+cell": {
     "cellMetadata": {
      "byteLimit": 2048000,
      "rowLimit": 10000
     },
     "inputWidgets": {},
     "nuid": "3f3ab1f3-b1fb-44c1-b74b-7da6222f6259",
     "showTitle": false,
     "tableResultSettingsMap": {},
     "title": ""
    }
   },
   "outputs": [],
   "source": [
    "if DeltaTable.isDeltaTable(spark, gold_path):\n",
    "    dim_customer = DeltaTable.forPath(spark, gold_path)\n",
    "else:\n",
    "    # First-time load \n",
    "    silver_df.write.format(\"delta\").mode(\"append\").save(gold_path)\n",
    "    dim_customer = DeltaTable.forPath(spark, gold_path)"
   ]
  },
  {
   "cell_type": "markdown",
   "metadata": {
    "application/vnd.databricks.v1+cell": {
     "cellMetadata": {},
     "inputWidgets": {},
     "nuid": "a9563f0e-9b7c-4ef0-99ca-96f6f67acfd6",
     "showTitle": false,
     "tableResultSettingsMap": {},
     "title": ""
    }
   },
   "source": [
    "### **Delta merge & Load data in gold layer**"
   ]
  },
  {
   "cell_type": "code",
   "execution_count": 0,
   "metadata": {
    "application/vnd.databricks.v1+cell": {
     "cellMetadata": {
      "byteLimit": 2048000,
      "rowLimit": 10000
     },
     "inputWidgets": {},
     "nuid": "f91dd31a-da32-4213-bacd-54779e312404",
     "showTitle": false,
     "tableResultSettingsMap": {},
     "title": ""
    }
   },
   "outputs": [],
   "source": [
    "(\n",
    "    dim_customer.alias(\"t\")\n",
    "    .merge(\n",
    "        silver_df.alias(\"s\"),\n",
    "        \"t.CustomerID = s.CustomerID AND t.IsActive = true\"\n",
    "    )\n",
    "    .whenMatchedUpdate(\n",
    "        condition=\"\"\"\n",
    "        t.FirstName <> s.FirstName OR\n",
    "        t.LastName <> s.LastName OR\n",
    "        t.DateOfBirth <> s.DateOfBirth OR\n",
    "        t.Gender <> s.Gender OR\n",
    "        t.Email <> s.Email OR\n",
    "        t.PhoneNumber <> s.PhoneNumber OR\n",
    "        t.Address <> s.Address OR\n",
    "        t.City <> s.City OR\n",
    "        t.State <> s.State OR\n",
    "        t.Pincode <> s.Pincode OR\n",
    "        t.DateOfRegistration <> s.DateOfRegistration OR\n",
    "        t.CustomerType <> s.CustomerType OR\n",
    "        t.PAN <> s.PAN OR\n",
    "        t.Aadhaar <> s.Aadhaar\"\"\",\n",
    "        set={\n",
    "            \"EndDate\" : \"current_timestamp()\",\n",
    "            \"IsActive\" : \"False\"\n",
    "        }\n",
    "    )\n",
    "    .whenNotMatchedInsert(\n",
    "        values={\n",
    "            \"CustomerID\": \"s.CustomerID\",\n",
    "            \"FirstName\": \"s.FirstName\",\n",
    "            \"LastName\": \"s.LastName\",\n",
    "            \"DateOfBirth\": \"s.DateOfBirth\",\n",
    "            \"Gender\": \"s.Gender\",\n",
    "            \"Email\": \"s.Email\",\n",
    "            \"PhoneNumber\": \"s.PhoneNumber\",\n",
    "            \"Address\": \"s.Address\",\n",
    "            \"City\": \"s.City\",\n",
    "            \"State\": \"s.State\",\n",
    "            \"Pincode\": \"s.Pincode\",\n",
    "            \"DateOfRegistration\": \"s.DateOfRegistration\",\n",
    "            \"CustomerType\": \"s.CustomerType\",\n",
    "            \"PAN\": \"s.PAN\",\n",
    "            \"Aadhaar\": \"s.Aadhaar\",\n",
    "            \"StartDate\": \"s.StartDate\",\n",
    "            \"EndDate\": \"s.EndDate\",\n",
    "            \"IsActive\": \"s.IsActive\"\n",
    "        }\n",
    "    )\n",
    "    .execute()\n",
    ")"
   ]
  },
  {
   "cell_type": "code",
   "execution_count": 0,
   "metadata": {
    "application/vnd.databricks.v1+cell": {
     "cellMetadata": {
      "byteLimit": 2048000,
      "implicitDf": true,
      "rowLimit": 10000
     },
     "inputWidgets": {},
     "nuid": "6e3036a6-69ce-4401-a870-a6209337f941",
     "showTitle": false,
     "tableResultSettingsMap": {},
     "title": ""
    }
   },
   "outputs": [],
   "source": [
    "%sql\n",
    "select * from finance_cata.gold.dim_customers;"
   ]
  }
 ],
 "metadata": {
  "application/vnd.databricks.v1+notebook": {
   "computePreferences": null,
   "dashboards": [],
   "environmentMetadata": {
    "base_environment": "",
    "environment_version": "3"
   },
   "inputWidgetPreferences": null,
   "language": "python",
   "notebookMetadata": {
    "mostRecentlyExecutedCommandWithImplicitDF": {
     "commandId": 4988571525974321,
     "dataframes": [
      "_sqldf"
     ]
    },
    "pythonIndentUnit": 4
   },
   "notebookName": "dim_customers",
   "widgets": {}
  },
  "language_info": {
   "name": "python"
  }
 },
 "nbformat": 4,
 "nbformat_minor": 0
}
