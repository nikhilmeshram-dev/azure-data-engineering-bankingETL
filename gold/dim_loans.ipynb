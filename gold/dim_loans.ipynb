{
 "cells": [
  {
   "cell_type": "markdown",
   "metadata": {
    "application/vnd.databricks.v1+cell": {
     "cellMetadata": {},
     "inputWidgets": {},
     "nuid": "cc90b4ad-0003-49eb-8670-12c98c9e2045",
     "showTitle": false,
     "tableResultSettingsMap": {},
     "title": ""
    }
   },
   "source": [
    "### **Import packages**"
   ]
  },
  {
   "cell_type": "code",
   "execution_count": 0,
   "metadata": {
    "application/vnd.databricks.v1+cell": {
     "cellMetadata": {
      "byteLimit": 2048000,
      "rowLimit": 10000
     },
     "inputWidgets": {},
     "nuid": "aa6f5490-e804-4b1e-8ded-2faab1927909",
     "showTitle": false,
     "tableResultSettingsMap": {},
     "title": ""
    }
   },
   "outputs": [],
   "source": [
    "from pyspark.sql.functions import *\n",
    "from pyspark.sql.types import *\n",
    "from pyspark.sql.window import Window\n",
    "from delta.tables import DeltaTable"
   ]
  },
  {
   "cell_type": "markdown",
   "metadata": {
    "application/vnd.databricks.v1+cell": {
     "cellMetadata": {},
     "inputWidgets": {},
     "nuid": "3d7034f7-4694-4a3b-bb30-fdfa801a0054",
     "showTitle": false,
     "tableResultSettingsMap": {},
     "title": ""
    }
   },
   "source": [
    "### **Define paths**"
   ]
  },
  {
   "cell_type": "code",
   "execution_count": 0,
   "metadata": {
    "application/vnd.databricks.v1+cell": {
     "cellMetadata": {
      "byteLimit": 2048000,
      "rowLimit": 10000
     },
     "inputWidgets": {},
     "nuid": "84e9a939-3291-4f0a-a884-0be06287dbe9",
     "showTitle": false,
     "tableResultSettingsMap": {},
     "title": ""
    }
   },
   "outputs": [],
   "source": [
    "silver_path = \"abfss://silver@stfinancedev.dfs.core.windows.net/s_loans\"\n",
    "gold_path = \"abfss://gold@stfinancedev.dfs.core.windows.net/dim_loans\""
   ]
  },
  {
   "cell_type": "markdown",
   "metadata": {
    "application/vnd.databricks.v1+cell": {
     "cellMetadata": {},
     "inputWidgets": {},
     "nuid": "7bc8704c-c00e-4b08-b142-52695067983a",
     "showTitle": false,
     "tableResultSettingsMap": {},
     "title": ""
    }
   },
   "source": [
    "### **Create delta table schema**"
   ]
  },
  {
   "cell_type": "code",
   "execution_count": 0,
   "metadata": {
    "application/vnd.databricks.v1+cell": {
     "cellMetadata": {
      "byteLimit": 2048000,
      "rowLimit": 10000
     },
     "inputWidgets": {},
     "nuid": "bc45c966-e7f7-48bd-8c14-71cc2b76566a",
     "showTitle": false,
     "tableResultSettingsMap": {},
     "title": ""
    }
   },
   "outputs": [],
   "source": [
    "spark.sql(f\"\"\"\n",
    "          CREATE TABLE IF NOT EXISTS finance_cata.gold.dim_loans(\n",
    "            Loankey BIGINT GENERATED ALWAYS AS IDENTITY(START WITH 1 INCREMENT BY 1),\n",
    "            LoanID STRING,\n",
    "            CustomerID STRING,\n",
    "            AccountID STRING,\n",
    "            LoanType STRING,\n",
    "            PrincipalAmount DECIMAL(10,2),\n",
    "            InterestRate DECIMAL(10,2),\n",
    "            LoanStartDateTime TIMESTAMP,\n",
    "            LoanEndDateTime TIMESTAMP,\n",
    "            LoanStatus STRING,\n",
    "            TenureMonths INT,\n",
    "            StartDate TIMESTAMP,\n",
    "            EndDate TIMESTAMP,\n",
    "            IsActive BOOLEAN           \n",
    "          )USING DELTA \n",
    "          LOCATION \"{gold_path}\"\n",
    "          \"\"\")"
   ]
  },
  {
   "cell_type": "markdown",
   "metadata": {
    "application/vnd.databricks.v1+cell": {
     "cellMetadata": {},
     "inputWidgets": {},
     "nuid": "8a8b6730-69c3-4cf0-86b7-b8465d9e265f",
     "showTitle": false,
     "tableResultSettingsMap": {},
     "title": ""
    }
   },
   "source": [
    "### **Load silver data**"
   ]
  },
  {
   "cell_type": "code",
   "execution_count": 0,
   "metadata": {
    "application/vnd.databricks.v1+cell": {
     "cellMetadata": {
      "byteLimit": 2048000,
      "rowLimit": 10000
     },
     "inputWidgets": {},
     "nuid": "30e07a11-067c-4d47-83fc-0c838bc2c137",
     "showTitle": false,
     "tableResultSettingsMap": {},
     "title": ""
    }
   },
   "outputs": [],
   "source": [
    "silver_df = spark.read.format(\"delta\").load(silver_path)"
   ]
  },
  {
   "cell_type": "markdown",
   "metadata": {
    "application/vnd.databricks.v1+cell": {
     "cellMetadata": {},
     "inputWidgets": {},
     "nuid": "c1068680-3b53-4004-bf88-4be586b23f05",
     "showTitle": false,
     "tableResultSettingsMap": {},
     "title": ""
    }
   },
   "source": [
    "### **Add SCD 2 columns**"
   ]
  },
  {
   "cell_type": "code",
   "execution_count": 0,
   "metadata": {
    "application/vnd.databricks.v1+cell": {
     "cellMetadata": {
      "byteLimit": 2048000,
      "rowLimit": 10000
     },
     "inputWidgets": {},
     "nuid": "6c416437-637b-4e0b-8fd4-d5b46f7d31e9",
     "showTitle": false,
     "tableResultSettingsMap": {},
     "title": ""
    }
   },
   "outputs": [],
   "source": [
    "silver_df = silver_df.withColumn(\"StartDate\", current_timestamp())\\\n",
    "                     .withColumn(\"EndDate\", lit(None).cast(\"timestamp\"))\\\n",
    "                     .withColumn(\"IsActive\", lit(True))"
   ]
  },
  {
   "cell_type": "code",
   "execution_count": 0,
   "metadata": {
    "application/vnd.databricks.v1+cell": {
     "cellMetadata": {
      "byteLimit": 2048000,
      "rowLimit": 10000
     },
     "inputWidgets": {},
     "nuid": "f7296df9-f561-4e2a-903e-c0ed7a53611b",
     "showTitle": false,
     "tableResultSettingsMap": {},
     "title": ""
    }
   },
   "outputs": [],
   "source": [
    "silver_df.display()"
   ]
  },
  {
   "cell_type": "markdown",
   "metadata": {
    "application/vnd.databricks.v1+cell": {
     "cellMetadata": {},
     "inputWidgets": {},
     "nuid": "2f63850d-ca2e-42d3-b150-3cccd79e30a3",
     "showTitle": false,
     "tableResultSettingsMap": {},
     "title": ""
    }
   },
   "source": [
    "### **Load gold data**"
   ]
  },
  {
   "cell_type": "code",
   "execution_count": 0,
   "metadata": {
    "application/vnd.databricks.v1+cell": {
     "cellMetadata": {
      "byteLimit": 2048000,
      "rowLimit": 10000
     },
     "inputWidgets": {},
     "nuid": "14c8a851-b1c0-4000-b603-6bdb494279e5",
     "showTitle": false,
     "tableResultSettingsMap": {},
     "title": ""
    }
   },
   "outputs": [],
   "source": [
    "if DeltaTable.isDeltaTable(spark, gold_path):\n",
    "    dim_loans = DeltaTable.forPath(spark, gold_path)\n",
    "else:\n",
    "    # First-time load \n",
    "    silver_df.write.format(\"delta\").mode(\"append\").save(gold_path)\n",
    "    dim_loans = DeltaTable.forPath(spark, gold_path)"
   ]
  },
  {
   "cell_type": "markdown",
   "metadata": {
    "application/vnd.databricks.v1+cell": {
     "cellMetadata": {},
     "inputWidgets": {},
     "nuid": "e9a4a83d-4bed-4561-8882-9ea5b4a09418",
     "showTitle": false,
     "tableResultSettingsMap": {},
     "title": ""
    }
   },
   "source": [
    "### **Delta merge & Load data in gold layer**"
   ]
  },
  {
   "cell_type": "code",
   "execution_count": 0,
   "metadata": {
    "application/vnd.databricks.v1+cell": {
     "cellMetadata": {
      "byteLimit": 2048000,
      "rowLimit": 10000
     },
     "inputWidgets": {},
     "nuid": "bf72b913-8f8b-4f21-a218-5105d363a692",
     "showTitle": false,
     "tableResultSettingsMap": {},
     "title": ""
    }
   },
   "outputs": [],
   "source": [
    "(\n",
    "    dim_loans.alias(\"t\")\n",
    "    .merge(\n",
    "        silver_df.alias(\"s\"),\n",
    "        \"t.LoanID = s.LoanID AND t.IsActive = true\"\n",
    "    )\n",
    "    .whenMatchedUpdate(\n",
    "        condition=\"\"\"\n",
    "            t.LoanID <> s.LoanID OR\n",
    "            t.CustomerID <> s.CustomerID OR\n",
    "            t.AccountID <> s.AccountID OR\n",
    "            t.LoanType <> s.LoanType OR\n",
    "            t.PrincipalAmount <> s.PrincipalAmount OR\n",
    "            t.InterestRate <> s.InterestRate OR\n",
    "            t.LoanStartDateTime <> s.LoanStartDateTime OR\n",
    "            t.LoanEndDateTime <> s.LoanEndDateTime OR\n",
    "            t.LoanStatus <> s.LoanStatus OR\n",
    "            t.TenureMonths <> s.TenureMonths\n",
    "        \"\"\",\n",
    "        set={\n",
    "            \"EndDate\": current_timestamp(),\n",
    "            \"IsActive\": 'False'\n",
    "        }\n",
    "    )\n",
    "    .whenNotMatchedInsert(\n",
    "        values={\n",
    "            \"LoanID\": \"s.LoanID\",\n",
    "            \"CustomerID\": \"s.CustomerID\",\n",
    "            \"AccountID\": \"s.AccountID\",\n",
    "            \"LoanType\": \"s.LoanType\",\n",
    "            \"PrincipalAmount\": \"s.PrincipalAmount\",\n",
    "            \"InterestRate\": \"s.InterestRate\",\n",
    "            \"LoanStartDateTime\": \"s.LoanStartDateTime\",\n",
    "            \"LoanEndDateTime\": \"s.LoanEndDateTime\",\n",
    "            \"LoanStatus\": \"s.LoanStatus\",\n",
    "            \"TenureMonths\": \"s.TenureMonths\",\n",
    "            \"StartDate\": \"s.StartDate\",\n",
    "            \"EndDate\": \"s.EndDate\",\n",
    "            \"IsActive\": \"s.IsActive\"\n",
    "        }\n",
    "    )\n",
    "    .execute()\n",
    ")"
   ]
  },
  {
   "cell_type": "code",
   "execution_count": 0,
   "metadata": {
    "application/vnd.databricks.v1+cell": {
     "cellMetadata": {
      "byteLimit": 2048000,
      "implicitDf": true,
      "rowLimit": 10000
     },
     "inputWidgets": {},
     "nuid": "1613732a-1cf4-4374-82c7-8ed0ee296caf",
     "showTitle": false,
     "tableResultSettingsMap": {},
     "title": ""
    }
   },
   "outputs": [],
   "source": [
    "%sql\n",
    "select * from finance_cata.gold.dim_loans"
   ]
  }
 ],
 "metadata": {
  "application/vnd.databricks.v1+notebook": {
   "computePreferences": null,
   "dashboards": [],
   "environmentMetadata": {
    "base_environment": "",
    "environment_version": "3"
   },
   "inputWidgetPreferences": null,
   "language": "python",
   "notebookMetadata": {
    "mostRecentlyExecutedCommandWithImplicitDF": {
     "commandId": 5786101303155145,
     "dataframes": [
      "_sqldf"
     ]
    },
    "pythonIndentUnit": 4
   },
   "notebookName": "dim_loans",
   "widgets": {}
  },
  "language_info": {
   "name": "python"
  }
 },
 "nbformat": 4,
 "nbformat_minor": 0
}
