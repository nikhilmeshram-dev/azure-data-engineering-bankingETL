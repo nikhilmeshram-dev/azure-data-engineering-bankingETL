{
 "cells": [
  {
   "cell_type": "markdown",
   "metadata": {
    "application/vnd.databricks.v1+cell": {
     "cellMetadata": {
      "byteLimit": 2048000,
      "rowLimit": 10000
     },
     "inputWidgets": {},
     "nuid": "e15a816c-92e4-4068-9389-4b9a0c6771dd",
     "showTitle": false,
     "tableResultSettingsMap": {},
     "title": ""
    }
   },
   "source": [
    "### **Import packages**"
   ]
  },
  {
   "cell_type": "code",
   "execution_count": 0,
   "metadata": {
    "application/vnd.databricks.v1+cell": {
     "cellMetadata": {
      "byteLimit": 2048000,
      "rowLimit": 10000
     },
     "inputWidgets": {},
     "nuid": "0a764f81-f26d-4492-816d-ebf9569f7934",
     "showTitle": false,
     "tableResultSettingsMap": {},
     "title": ""
    }
   },
   "outputs": [],
   "source": [
    "from pyspark.sql.functions import *\n",
    "from pyspark.sql.types import *\n",
    "from pyspark.sql.window import Window\n",
    "from delta.tables import DeltaTable"
   ]
  },
  {
   "cell_type": "markdown",
   "metadata": {
    "application/vnd.databricks.v1+cell": {
     "cellMetadata": {
      "byteLimit": 2048000,
      "rowLimit": 10000
     },
     "inputWidgets": {},
     "nuid": "bef760a3-3941-4619-949f-cbb63066f362",
     "showTitle": false,
     "tableResultSettingsMap": {},
     "title": ""
    }
   },
   "source": [
    "### **Define paths**"
   ]
  },
  {
   "cell_type": "code",
   "execution_count": 0,
   "metadata": {
    "application/vnd.databricks.v1+cell": {
     "cellMetadata": {
      "byteLimit": 2048000,
      "rowLimit": 10000
     },
     "inputWidgets": {},
     "nuid": "c113b7a7-c678-44e2-9acb-f4e00cb94cae",
     "showTitle": false,
     "tableResultSettingsMap": {},
     "title": ""
    }
   },
   "outputs": [],
   "source": [
    "silver_path = \"abfss://silver@stfinancedev.dfs.core.windows.net/s_employees\"\n",
    "gold_path = \"abfss://gold@stfinancedev.dfs.core.windows.net/dim_employees\""
   ]
  },
  {
   "cell_type": "markdown",
   "metadata": {
    "application/vnd.databricks.v1+cell": {
     "cellMetadata": {
      "byteLimit": 2048000,
      "rowLimit": 10000
     },
     "inputWidgets": {},
     "nuid": "6a3f0d3c-9a2e-4cec-bb48-9e09709f8da1",
     "showTitle": false,
     "tableResultSettingsMap": {},
     "title": ""
    }
   },
   "source": [
    "### **Create delta table schema**"
   ]
  },
  {
   "cell_type": "code",
   "execution_count": 0,
   "metadata": {
    "application/vnd.databricks.v1+cell": {
     "cellMetadata": {
      "byteLimit": 2048000,
      "rowLimit": 10000
     },
     "inputWidgets": {},
     "nuid": "672317e4-9c45-42f0-aa82-9950423aae32",
     "showTitle": false,
     "tableResultSettingsMap": {},
     "title": ""
    }
   },
   "outputs": [],
   "source": [
    "spark.sql(f\"\"\"\n",
    "          CREATE TABLE IF NOT EXISTS finance_cata.gold.dim_employees(\n",
    "              Employeekey BIGINT GENERATED ALWAYS AS IDENTITY(START WITH 1 INCREMENT BY 1),\n",
    "              EmployeeID STRING,\n",
    "              FirstName STRING,\n",
    "              LastName STRING,\n",
    "              DateOfBirth DATE,\n",
    "              Email STRING,\n",
    "              PhoneNumber STRING,\n",
    "              JobTitle STRING,\n",
    "              BranchID STRING,\n",
    "              DateOfJoining TIMESTAMP,\n",
    "              PAN STRING,\n",
    "              Aadhaar STRING,\n",
    "              StartDate TIMESTAMP,\n",
    "              EndDate TIMESTAMP,\n",
    "              IsActive BOOLEAN    \n",
    "        )USING DELTA\n",
    "        LOCATION '{gold_path}'\n",
    "        \"\"\")"
   ]
  },
  {
   "cell_type": "markdown",
   "metadata": {
    "application/vnd.databricks.v1+cell": {
     "cellMetadata": {
      "byteLimit": 2048000,
      "rowLimit": 10000
     },
     "inputWidgets": {},
     "nuid": "797261e2-e382-4e91-9dc1-027cbf8d9f26",
     "showTitle": false,
     "tableResultSettingsMap": {},
     "title": ""
    }
   },
   "source": [
    "### **Load silver data**"
   ]
  },
  {
   "cell_type": "code",
   "execution_count": 0,
   "metadata": {
    "application/vnd.databricks.v1+cell": {
     "cellMetadata": {
      "byteLimit": 2048000,
      "rowLimit": 10000
     },
     "inputWidgets": {},
     "nuid": "7cc62529-2633-47cb-9a1b-35c69373cdc2",
     "showTitle": false,
     "tableResultSettingsMap": {},
     "title": ""
    }
   },
   "outputs": [],
   "source": [
    "silver_df = spark.read.format(\"delta\").load(silver_path)"
   ]
  },
  {
   "cell_type": "markdown",
   "metadata": {
    "application/vnd.databricks.v1+cell": {
     "cellMetadata": {
      "byteLimit": 2048000,
      "rowLimit": 10000
     },
     "inputWidgets": {},
     "nuid": "0b9aa26a-f588-42d9-a082-588d93f48000",
     "showTitle": false,
     "tableResultSettingsMap": {},
     "title": ""
    }
   },
   "source": [
    "### ****Add SCD 2 columns****"
   ]
  },
  {
   "cell_type": "code",
   "execution_count": 0,
   "metadata": {
    "application/vnd.databricks.v1+cell": {
     "cellMetadata": {
      "byteLimit": 2048000,
      "rowLimit": 10000
     },
     "inputWidgets": {},
     "nuid": "55039c0b-116f-4a5c-95da-bf19e6e8f34b",
     "showTitle": false,
     "tableResultSettingsMap": {},
     "title": ""
    }
   },
   "outputs": [],
   "source": [
    "silver_df = silver_df.withColumn(\"DateOfBirth\", col(\"DateOfBirth\").cast(\"date\"))\\\n",
    "                     .withColumn(\"DateOfJoining\", col(\"DateOfJoining\").cast(\"timestamp\"))\\\n",
    "                     .withColumn(\"StartDate\", current_timestamp())\\\n",
    "                     .withColumn(\"EndDate\", lit(None).cast(\"timestamp\"))\\\n",
    "                     .withColumn(\"IsActive\", lit(True))"
   ]
  },
  {
   "cell_type": "code",
   "execution_count": 0,
   "metadata": {
    "application/vnd.databricks.v1+cell": {
     "cellMetadata": {
      "byteLimit": 2048000,
      "rowLimit": 10000
     },
     "inputWidgets": {},
     "nuid": "e144b9b4-9ae0-4de7-9e68-a58dc98bf8c9",
     "showTitle": false,
     "tableResultSettingsMap": {},
     "title": ""
    }
   },
   "outputs": [],
   "source": [
    "silver_df.display()"
   ]
  },
  {
   "cell_type": "markdown",
   "metadata": {
    "application/vnd.databricks.v1+cell": {
     "cellMetadata": {
      "byteLimit": 2048000,
      "rowLimit": 10000
     },
     "inputWidgets": {},
     "nuid": "2dca8b11-32e9-4280-8e35-8170bedc7351",
     "showTitle": false,
     "tableResultSettingsMap": {},
     "title": ""
    }
   },
   "source": [
    "### **Load gold data**"
   ]
  },
  {
   "cell_type": "code",
   "execution_count": 0,
   "metadata": {
    "application/vnd.databricks.v1+cell": {
     "cellMetadata": {
      "byteLimit": 2048000,
      "rowLimit": 10000
     },
     "inputWidgets": {},
     "nuid": "e3c68c01-182f-4ced-b7ea-1118126623ac",
     "showTitle": false,
     "tableResultSettingsMap": {},
     "title": ""
    }
   },
   "outputs": [],
   "source": [
    "if DeltaTable.isDeltaTable(spark, gold_path):\n",
    "    dim_employees = DeltaTable.forPath(spark, gold_path)\n",
    "else:\n",
    "    # First-time load \n",
    "    silver_df.write.format(\"delta\").mode(\"append\").save(gold_path)\n",
    "    dim_employees = DeltaTable.forPath(spark, gold_path)"
   ]
  },
  {
   "cell_type": "markdown",
   "metadata": {
    "application/vnd.databricks.v1+cell": {
     "cellMetadata": {
      "byteLimit": 2048000,
      "rowLimit": 10000
     },
     "inputWidgets": {},
     "nuid": "c90baae4-eb49-4714-b372-99091b2c906f",
     "showTitle": false,
     "tableResultSettingsMap": {},
     "title": ""
    }
   },
   "source": [
    "### **Delta merge & Load data in gold layer**"
   ]
  },
  {
   "cell_type": "code",
   "execution_count": 0,
   "metadata": {
    "application/vnd.databricks.v1+cell": {
     "cellMetadata": {
      "byteLimit": 2048000,
      "rowLimit": 10000
     },
     "inputWidgets": {},
     "nuid": "09488704-afdc-498b-836c-1b99c2835e40",
     "showTitle": false,
     "tableResultSettingsMap": {},
     "title": ""
    }
   },
   "outputs": [],
   "source": [
    "(\n",
    "    dim_employees.alias(\"t\")\n",
    "    .merge(\n",
    "        silver_df.alias(\"s\"),\n",
    "        \"t.EmployeeID = s.EmployeeID AND t.IsActive = true\"\n",
    "    )\n",
    "    .whenMatchedUpdate(\n",
    "        condition=\"\"\"\n",
    "        t.FirstName <> s.FirstName OR\n",
    "        t.LastName <> s.LastName OR\n",
    "        t.DateOfBirth <> s.DateOfBirth OR\n",
    "        t.Email <> s.Email OR\n",
    "        t.PhoneNumber <> s.PhoneNumber OR\n",
    "        t.JobTitle <> s.JobTitle OR\n",
    "        t.BranchID <> s.BranchID OR\n",
    "        t.DateOfJoining <> s.DateOfJoining OR\n",
    "        t.PAN <> s.PAN OR\n",
    "        t.Aadhaar <> s.Aadhaar \n",
    "        \"\"\",\n",
    "        set={\n",
    "            \"EndDate\" : current_timestamp(),\n",
    "            \"IsActive\" : \"false\"\n",
    "        }\n",
    "    )\n",
    "    .whenNotMatchedInsert(\n",
    "        values ={\n",
    "            \"EmployeeID\" : \"s.EmployeeID\",\n",
    "            \"FirstName\" : \"s.FirstName\",\n",
    "            \"LastName\" : \"s.LastName\",\n",
    "            \"DateOfBirth\" : \"s.DateOfBirth\",\n",
    "            \"Email\" : \"s.Email\",\n",
    "            \"PhoneNumber\" : \"s.PhoneNumber\",\n",
    "            \"JobTitle\" : \"s.JobTitle\",\n",
    "            \"BranchID\" : \"s.BranchID\",\n",
    "            \"DateOfJoining\" : \"s.DateOfJoining\",\n",
    "            \"PAN\" : \"s.PAN\",\n",
    "            \"Aadhaar\" : \"s.Aadhaar\",\n",
    "            \"StartDate\" : \"s.StartDate\",\n",
    "            \"EndDate\" : \"s.EndDate\",\n",
    "            \"IsActive\" : \"s.IsActive\"\n",
    "        }\n",
    "    )\n",
    "    .execute()\n",
    ")"
   ]
  },
  {
   "cell_type": "code",
   "execution_count": 0,
   "metadata": {
    "application/vnd.databricks.v1+cell": {
     "cellMetadata": {
      "byteLimit": 2048000,
      "implicitDf": true,
      "rowLimit": 10000
     },
     "inputWidgets": {},
     "nuid": "6ea39fad-eba1-4d6d-9090-e6ad703f1046",
     "showTitle": false,
     "tableResultSettingsMap": {},
     "title": ""
    }
   },
   "outputs": [],
   "source": [
    "%sql\n",
    "select * from finance_cata.gold.dim_employees"
   ]
  }
 ],
 "metadata": {
  "application/vnd.databricks.v1+notebook": {
   "computePreferences": null,
   "dashboards": [],
   "environmentMetadata": {
    "base_environment": "",
    "environment_version": "3"
   },
   "inputWidgetPreferences": null,
   "language": "python",
   "notebookMetadata": {
    "mostRecentlyExecutedCommandWithImplicitDF": {
     "commandId": 5786101303155110,
     "dataframes": [
      "_sqldf"
     ]
    },
    "pythonIndentUnit": 4
   },
   "notebookName": "dim_employees",
   "widgets": {}
  },
  "language_info": {
   "name": "python"
  }
 },
 "nbformat": 4,
 "nbformat_minor": 0
}
